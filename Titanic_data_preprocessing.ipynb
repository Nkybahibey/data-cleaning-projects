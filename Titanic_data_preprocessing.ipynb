{
  "nbformat": 4,
  "nbformat_minor": 0,
  "metadata": {
    "colab": {
      "provenance": [],
      "authorship_tag": "ABX9TyNsSjWjo1AYdsVk8ZtmT8Mc",
      "include_colab_link": true
    },
    "kernelspec": {
      "name": "python3",
      "display_name": "Python 3"
    },
    "language_info": {
      "name": "python"
    }
  },
  "cells": [
    {
      "cell_type": "markdown",
      "metadata": {
        "id": "view-in-github",
        "colab_type": "text"
      },
      "source": [
        "<a href=\"https://colab.research.google.com/github/Nkybahibey/data-cleaning-projects/blob/main/Titanic_data_preprocessing.ipynb\" target=\"_parent\"><img src=\"https://colab.research.google.com/assets/colab-badge.svg\" alt=\"Open In Colab\"/></a>"
      ]
    },
    {
      "cell_type": "code",
      "source": [
        "#import\n",
        "import pandas as pd\n",
        "\n",
        "\n",
        "\n",
        "\n",
        "\n",
        "#load\n",
        "data = pd.read_csv('/content/full.csv')"
      ],
      "metadata": {
        "id": "gmczAtNPQh2Q"
      },
      "execution_count": 6,
      "outputs": []
    },
    {
      "cell_type": "code",
      "source": [
        "#view dataset\n",
        "print(data.describe())"
      ],
      "metadata": {
        "colab": {
          "base_uri": "https://localhost:8080/"
        },
        "id": "BjTSRttzRqsj",
        "outputId": "eef407a3-2c9a-40cf-8847-4d4ef67a6996"
      },
      "execution_count": null,
      "outputs": [
        {
          "output_type": "stream",
          "name": "stdout",
          "text": [
            "       PassengerId    Survived       Pclass          Age        SibSp  \\\n",
            "count  1309.000000  891.000000  1309.000000  1046.000000  1309.000000   \n",
            "mean    655.000000    0.383838     2.294882    29.881138     0.498854   \n",
            "std     378.020061    0.486592     0.837836    14.413493     1.041658   \n",
            "min       1.000000    0.000000     1.000000     0.170000     0.000000   \n",
            "25%     328.000000    0.000000     2.000000    21.000000     0.000000   \n",
            "50%     655.000000    0.000000     3.000000    28.000000     0.000000   \n",
            "75%     982.000000    1.000000     3.000000    39.000000     1.000000   \n",
            "max    1309.000000    1.000000     3.000000    80.000000     8.000000   \n",
            "\n",
            "             Parch         Fare       WikiId     Age_wiki        Class  \n",
            "count  1309.000000  1308.000000  1304.000000  1302.000000  1304.000000  \n",
            "mean      0.385027    33.295479   658.534509    29.415829     2.291411  \n",
            "std       0.865560    51.758668   380.377373    13.758954     0.840852  \n",
            "min       0.000000     0.000000     1.000000     0.170000     1.000000  \n",
            "25%       0.000000     7.895800   326.750000    21.000000     1.750000  \n",
            "50%       0.000000    14.454200   661.500000    28.000000     3.000000  \n",
            "75%       0.000000    31.275000   987.250000    37.750000     3.000000  \n",
            "max       9.000000   512.329200  1314.000000    74.000000     3.000000  \n"
          ]
        }
      ]
    },
    {
      "cell_type": "code",
      "source": [],
      "metadata": {
        "id": "eF4Uvvflx8E4"
      },
      "execution_count": null,
      "outputs": []
    },
    {
      "cell_type": "code",
      "source": [
        "#identify missing values\n",
        "missing_values = data.isnull().sum()\n",
        "print(missing_values)"
      ],
      "metadata": {
        "colab": {
          "base_uri": "https://localhost:8080/"
        },
        "id": "oWMqPBGjShNt",
        "outputId": "3915d367-9cdf-446d-b4c2-6bb72a65ec1a"
      },
      "execution_count": null,
      "outputs": [
        {
          "output_type": "stream",
          "name": "stdout",
          "text": [
            "PassengerId       0\n",
            "Survived        418\n",
            "Pclass            0\n",
            "Name              0\n",
            "Sex               0\n",
            "Age             263\n",
            "SibSp             0\n",
            "Parch             0\n",
            "Ticket            0\n",
            "Fare              1\n",
            "Cabin          1014\n",
            "Embarked          2\n",
            "WikiId            5\n",
            "Name_wiki         5\n",
            "Age_wiki          7\n",
            "Hometown          5\n",
            "Boarded           5\n",
            "Destination       5\n",
            "Lifeboat        807\n",
            "Body           1179\n",
            "Class             5\n",
            "dtype: int64\n"
          ]
        }
      ]
    },
    {
      "cell_type": "code",
      "source": [
        "#handle missing values\n",
        "data_filled = data.fillna(0)\n",
        "\n",
        "\n",
        "\n",
        "\n",
        "\n",
        "\n"
      ],
      "metadata": {
        "id": "A0cvGxRPTP_S"
      },
      "execution_count": null,
      "outputs": []
    },
    {
      "cell_type": "code",
      "execution_count": null,
      "metadata": {
        "id": "ayT2wq94OSFJ"
      },
      "outputs": [],
      "source": [
        "#import libraries\n",
        "import pandas as pd\n"
      ]
    },
    {
      "cell_type": "code",
      "source": [
        "#Remove duplicates\n",
        "data.drop_duplicates(inplace=True)"
      ],
      "metadata": {
        "id": "djIJeS_RUH6p"
      },
      "execution_count": null,
      "outputs": []
    },
    {
      "cell_type": "code",
      "source": [
        "print(data.dtypes)"
      ],
      "metadata": {
        "colab": {
          "base_uri": "https://localhost:8080/"
        },
        "id": "ePuCAJslUWIo",
        "outputId": "08aa27c5-a78a-4f95-bd67-14ded64d4a97"
      },
      "execution_count": null,
      "outputs": [
        {
          "output_type": "stream",
          "name": "stdout",
          "text": [
            "PassengerId      int64\n",
            "Survived       float64\n",
            "Pclass           int64\n",
            "Name            object\n",
            "Sex             object\n",
            "Age            float64\n",
            "SibSp            int64\n",
            "Parch            int64\n",
            "Ticket          object\n",
            "Fare           float64\n",
            "Cabin           object\n",
            "Embarked        object\n",
            "WikiId         float64\n",
            "Name_wiki       object\n",
            "Age_wiki       float64\n",
            "Hometown        object\n",
            "Boarded         object\n",
            "Destination     object\n",
            "Lifeboat        object\n",
            "Body            object\n",
            "Class          float64\n",
            "dtype: object\n"
          ]
        }
      ]
    },
    {
      "cell_type": "code",
      "source": [
        "#convert categorical variables to numeric\n",
        "data = pd.get_dummies(data, drop_first=True)"
      ],
      "metadata": {
        "id": "N-vTUrUMdiP5"
      },
      "execution_count": null,
      "outputs": []
    },
    {
      "cell_type": "code",
      "source": [
        "#display transformed data\n",
        "print(data.info())"
      ],
      "metadata": {
        "colab": {
          "base_uri": "https://localhost:8080/"
        },
        "id": "5Xd8-a6XeV7r",
        "outputId": "2d7d2895-44b9-40f5-943e-1cabff30d54c"
      },
      "execution_count": null,
      "outputs": [
        {
          "output_type": "stream",
          "name": "stdout",
          "text": [
            "<class 'pandas.core.frame.DataFrame'>\n",
            "RangeIndex: 1309 entries, 0 to 1308\n",
            "Columns: 4744 entries, PassengerId to Body_[66][67]\n",
            "dtypes: bool(4734), float64(6), int64(4)\n",
            "memory usage: 6.0 MB\n",
            "None\n"
          ]
        }
      ]
    }
  ]
}